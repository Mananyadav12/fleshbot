{
 "cells": [
  {
   "cell_type": "code",
   "execution_count": null,
   "id": "6992867c",
   "metadata": {},
   "outputs": [],
   "source": [
    "import re\n",
    "import random"
   ]
  },
  {
   "cell_type": "code",
   "execution_count": null,
   "id": "1d95095b",
   "metadata": {},
   "outputs": [],
   "source": [
    "class Rulebot:\n",
    "    ### Potential Negative Responses\n",
    "    negative_responses = (\"no\",\"nope\",\"naw\",\"not a chance\",\"sorry\")\n",
    "    ### Exit conversation keywords\n",
    "    exit_commands = (\"quit\",\"pause\",\"exit\",\"goodbye\",\"bye\",\"later\")\n",
    "    ### Random starter question\n",
    "    random questions = (\n",
    "        \"Why are you here?\",\n",
    "        \"Are there many humans like you?\",\n",
    "        \"What do you consume for sustenance?\",\n",
    "        \"Is their intelligent life on planet?\",\n",
    "        \"Does earth have a leader?\",\n",
    "        \"What planets have you visited?\",\n",
    "        \"What technology do you have on this planet?\"\n",
    "    )\n",
    "def __init__(self):\n",
    "    self.alienbabble = {'describe_planet_intent':r'.*\\s*your planet.*',\n",
    "                          'answer_why_intent': r'why\\sare.*',\n",
    "                          'about_intellipat':r'.*\\s*intellipat'\n",
    "                        }\n",
    "def greet(self):\n",
    "    self.name = input(\"What is your name?\\n\")\n",
    "    will_help = input(\n",
    "        f\"Hi{self.name},I am Flesh-Bot. Will you help me learn about your planet?\\n\")\n",
    "    if will_help in self.negatove_responses:\n",
    "        print(\"Ok,have a nice earth day!\")\n",
    "        return\n",
    "    self.chat()\n",
    "\n",
    "def make_exit(self,reply):\n",
    "    for commaned in self.exit_commands:\n",
    "        if reply == command:\n",
    "            print(\"Have a nice Earth day!\")\n",
    "            return true\n",
    "\n",
    "def chat(self):\n",
    "    reply = input(random.choice(self.random_questions)).lower()\n",
    "    while not self-make_exit(reply):\n",
    "        reply = input(self.match_reply(reply))\n",
    "\n",
    "def match_reply(self,reply):\n",
    "    for key,value in self.alienbabble.items():\n",
    "        intent=keyregrex_pattern = valuefound_match - re.match                       "
   ]
  }
 ],
 "metadata": {
  "kernelspec": {
   "display_name": "base",
   "language": "python",
   "name": "python3"
  },
  "language_info": {
   "name": "python",
   "version": "3.12.7"
  }
 },
 "nbformat": 4,
 "nbformat_minor": 5
}
